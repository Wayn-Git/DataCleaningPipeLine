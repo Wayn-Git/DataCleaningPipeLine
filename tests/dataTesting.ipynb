{
 "cells": [
  {
   "cell_type": "code",
   "execution_count": 20,
   "id": "0507eced",
   "metadata": {},
   "outputs": [],
   "source": [
    "import pandas as pd "
   ]
  },
  {
   "cell_type": "code",
   "execution_count": 21,
   "metadata": {},
   "outputs": [],
   "source": [
    "df = pd.read_csv(\"../data/sample_dirty.csv\")"
   ]
  },
  {
   "cell_type": "code",
   "execution_count": 22,
   "metadata": {},
   "outputs": [
    {
     "data": {
      "application/vnd.microsoft.datawrangler.viewer.v0+json": {
       "columns": [
        {
         "name": "index",
         "rawType": "int64",
         "type": "integer"
        },
        {
         "name": "Name",
         "rawType": "object",
         "type": "string"
        },
        {
         "name": "Age",
         "rawType": "float64",
         "type": "float"
        },
        {
         "name": "City",
         "rawType": "object",
         "type": "string"
        },
        {
         "name": "Grade",
         "rawType": "object",
         "type": "string"
        },
        {
         "name": "Gender",
         "rawType": "object",
         "type": "string"
        },
        {
         "name": "Note",
         "rawType": "object",
         "type": "string"
        }
       ],
       "ref": "4ebad33d-a947-4dc2-ad6d-b6f6f9db4031",
       "rows": [
        [
         "0",
         "Sagar",
         "21.0",
         "Mumbai",
         "A",
         "male",
         "good student"
        ],
        [
         "1",
         "Arjun",
         "20.0",
         "Bengaluru",
         "A",
         "female",
         "needs help"
        ],
        [
         "2",
         "Yash",
         "22.0",
         "Dehli",
         "A",
         "Male",
         "excelelnt"
        ],
        [
         "3",
         "Neha",
         null,
         "pune",
         "B",
         "Male",
         "average"
        ],
        [
         "4",
         "Yash",
         "19.0",
         "PNE",
         "B",
         "Female",
         "late submitter"
        ]
       ],
       "shape": {
        "columns": 6,
        "rows": 5
       }
      },
      "text/html": [
       "<div>\n",
       "<style scoped>\n",
       "    .dataframe tbody tr th:only-of-type {\n",
       "        vertical-align: middle;\n",
       "    }\n",
       "\n",
       "    .dataframe tbody tr th {\n",
       "        vertical-align: top;\n",
       "    }\n",
       "\n",
       "    .dataframe thead th {\n",
       "        text-align: right;\n",
       "    }\n",
       "</style>\n",
       "<table border=\"1\" class=\"dataframe\">\n",
       "  <thead>\n",
       "    <tr style=\"text-align: right;\">\n",
       "      <th></th>\n",
       "      <th>Name</th>\n",
       "      <th>Age</th>\n",
       "      <th>City</th>\n",
       "      <th>Grade</th>\n",
       "      <th>Gender</th>\n",
       "      <th>Note</th>\n",
       "    </tr>\n",
       "  </thead>\n",
       "  <tbody>\n",
       "    <tr>\n",
       "      <th>0</th>\n",
       "      <td>Sagar</td>\n",
       "      <td>21.0</td>\n",
       "      <td>Mumbai</td>\n",
       "      <td>A</td>\n",
       "      <td>male</td>\n",
       "      <td>good student</td>\n",
       "    </tr>\n",
       "    <tr>\n",
       "      <th>1</th>\n",
       "      <td>Arjun</td>\n",
       "      <td>20.0</td>\n",
       "      <td>Bengaluru</td>\n",
       "      <td>A</td>\n",
       "      <td>female</td>\n",
       "      <td>needs help</td>\n",
       "    </tr>\n",
       "    <tr>\n",
       "      <th>2</th>\n",
       "      <td>Yash</td>\n",
       "      <td>22.0</td>\n",
       "      <td>Dehli</td>\n",
       "      <td>A</td>\n",
       "      <td>Male</td>\n",
       "      <td>excelelnt</td>\n",
       "    </tr>\n",
       "    <tr>\n",
       "      <th>3</th>\n",
       "      <td>Neha</td>\n",
       "      <td>NaN</td>\n",
       "      <td>pune</td>\n",
       "      <td>B</td>\n",
       "      <td>Male</td>\n",
       "      <td>average</td>\n",
       "    </tr>\n",
       "    <tr>\n",
       "      <th>4</th>\n",
       "      <td>Yash</td>\n",
       "      <td>19.0</td>\n",
       "      <td>PNE</td>\n",
       "      <td>B</td>\n",
       "      <td>Female</td>\n",
       "      <td>late submitter</td>\n",
       "    </tr>\n",
       "  </tbody>\n",
       "</table>\n",
       "</div>"
      ],
      "text/plain": [
       "    Name   Age       City Grade  Gender            Note\n",
       "0  Sagar  21.0     Mumbai     A    male    good student\n",
       "1  Arjun  20.0  Bengaluru     A  female      needs help\n",
       "2   Yash  22.0      Dehli     A    Male       excelelnt\n",
       "3   Neha   NaN       pune     B    Male         average\n",
       "4   Yash  19.0        PNE     B  Female  late submitter"
      ]
     },
     "execution_count": 22,
     "metadata": {},
     "output_type": "execute_result"
    }
   ],
   "source": [
    "df.head()"
   ]
  },
  {
   "cell_type": "code",
   "execution_count": 23,
   "metadata": {},
   "outputs": [
    {
     "data": {
      "application/vnd.microsoft.datawrangler.viewer.v0+json": {
       "columns": [
        {
         "name": "index",
         "rawType": "object",
         "type": "string"
        },
        {
         "name": "0",
         "rawType": "int64",
         "type": "integer"
        }
       ],
       "ref": "6b29d9c7-7ed1-4559-87f5-307c4ab2339c",
       "rows": [
        [
         "Name",
         "0"
        ],
        [
         "Age",
         "20"
        ],
        [
         "City",
         "0"
        ],
        [
         "Grade",
         "19"
        ],
        [
         "Gender",
         "0"
        ],
        [
         "Note",
         "0"
        ]
       ],
       "shape": {
        "columns": 1,
        "rows": 6
       }
      },
      "text/plain": [
       "Name       0\n",
       "Age       20\n",
       "City       0\n",
       "Grade     19\n",
       "Gender     0\n",
       "Note       0\n",
       "dtype: int64"
      ]
     },
     "execution_count": 23,
     "metadata": {},
     "output_type": "execute_result"
    }
   ],
   "source": [
    "df.isna().sum()"
   ]
  },
  {
   "cell_type": "code",
   "execution_count": 24,
   "id": "5ea14f4f",
   "metadata": {},
   "outputs": [
    {
     "data": {
      "application/vnd.microsoft.datawrangler.viewer.v0+json": {
       "columns": [
        {
         "name": "index",
         "rawType": "object",
         "type": "string"
        },
        {
         "name": "0",
         "rawType": "int64",
         "type": "integer"
        }
       ],
       "ref": "e5e5104c-8cba-4a1c-abb3-5f7863b8f702",
       "rows": [
        [
         "Name",
         "0"
        ],
        [
         "Age",
         "20"
        ],
        [
         "City",
         "0"
        ],
        [
         "Grade",
         "19"
        ],
        [
         "Gender",
         "0"
        ],
        [
         "Note",
         "0"
        ]
       ],
       "shape": {
        "columns": 1,
        "rows": 6
       }
      },
      "text/plain": [
       "Name       0\n",
       "Age       20\n",
       "City       0\n",
       "Grade     19\n",
       "Gender     0\n",
       "Note       0\n",
       "dtype: int64"
      ]
     },
     "execution_count": 24,
     "metadata": {},
     "output_type": "execute_result"
    }
   ],
   "source": [
    "df.isnull().sum()"
   ]
  },
  {
   "cell_type": "code",
   "execution_count": 25,
   "id": "e645c7f3",
   "metadata": {},
   "outputs": [
    {
     "data": {
      "text/plain": [
       "np.int64(5)"
      ]
     },
     "execution_count": 25,
     "metadata": {},
     "output_type": "execute_result"
    }
   ],
   "source": [
    "df.duplicated().sum()"
   ]
  },
  {
   "cell_type": "code",
   "execution_count": 26,
   "id": "ff794ebb",
   "metadata": {},
   "outputs": [
    {
     "name": "stdout",
     "output_type": "stream",
     "text": [
      "<class 'pandas.core.frame.DataFrame'>\n",
      "RangeIndex: 125 entries, 0 to 124\n",
      "Data columns (total 6 columns):\n",
      " #   Column  Non-Null Count  Dtype  \n",
      "---  ------  --------------  -----  \n",
      " 0   Name    125 non-null    object \n",
      " 1   Age     105 non-null    float64\n",
      " 2   City    125 non-null    object \n",
      " 3   Grade   106 non-null    object \n",
      " 4   Gender  125 non-null    object \n",
      " 5   Note    125 non-null    object \n",
      "dtypes: float64(1), object(5)\n",
      "memory usage: 6.0+ KB\n"
     ]
    }
   ],
   "source": [
    "df.info()"
   ]
  },
  {
   "cell_type": "code",
   "execution_count": 27,
   "id": "2517773f",
   "metadata": {},
   "outputs": [
    {
     "data": {
      "text/plain": [
       "Index(['Name', 'Age', 'City', 'Grade', 'Gender', 'Note'], dtype='object')"
      ]
     },
     "execution_count": 27,
     "metadata": {},
     "output_type": "execute_result"
    }
   ],
   "source": [
    "df.columns"
   ]
  },
  {
   "cell_type": "code",
   "execution_count": 28,
   "id": "35a7a8ff",
   "metadata": {},
   "outputs": [],
   "source": [
    "df['Note'] = df['Note'].astype('string') "
   ]
  },
  {
   "cell_type": "code",
   "execution_count": 29,
   "id": "06b9ae91",
   "metadata": {},
   "outputs": [
    {
     "data": {
      "application/vnd.microsoft.datawrangler.viewer.v0+json": {
       "columns": [
        {
         "name": "index",
         "rawType": "int64",
         "type": "integer"
        },
        {
         "name": "Note",
         "rawType": "string",
         "type": "string"
        }
       ],
       "ref": "29ffde4d-b9ad-4e6c-9096-fd63d3b957be",
       "rows": [
        [
         "0",
         "good student"
        ],
        [
         "1",
         "needs help"
        ],
        [
         "2",
         "excelelnt"
        ],
        [
         "3",
         "average"
        ],
        [
         "4",
         "late submitter"
        ],
        [
         "5",
         "excellent"
        ],
        [
         "6",
         "needs help"
        ],
        [
         "7",
         "late submitter"
        ],
        [
         "8",
         "late submitter"
        ],
        [
         "9",
         "good student"
        ],
        [
         "10",
         "late submitter"
        ],
        [
         "11",
         "excellent"
        ],
        [
         "12",
         "needsh elp"
        ],
        [
         "13",
         "excellent"
        ],
        [
         "14",
         "needs help"
        ],
        [
         "15",
         "good student"
        ],
        [
         "16",
         "excellent"
        ],
        [
         "17",
         "late submitter"
        ],
        [
         "18",
         "good student"
        ],
        [
         "19",
         "average"
        ],
        [
         "20",
         "needs help"
        ],
        [
         "21",
         "good student"
        ],
        [
         "22",
         "goods tudent"
        ],
        [
         "23",
         "needs help"
        ],
        [
         "24",
         "needs help"
        ],
        [
         "25",
         "average"
        ],
        [
         "26",
         "average"
        ],
        [
         "27",
         "late submitter"
        ],
        [
         "28",
         "excellent"
        ],
        [
         "29",
         "average"
        ],
        [
         "30",
         "excellent"
        ],
        [
         "31",
         "needs help"
        ],
        [
         "32",
         "good studnt"
        ],
        [
         "33",
         "good student"
        ],
        [
         "34",
         "late submitter"
        ],
        [
         "35",
         "excellent"
        ],
        [
         "36",
         "late sbumitter"
        ],
        [
         "37",
         "late submitter"
        ],
        [
         "38",
         "late submitter"
        ],
        [
         "39",
         "late submitter"
        ],
        [
         "40",
         "excellent"
        ],
        [
         "41",
         "needs help"
        ],
        [
         "42",
         "late submitter"
        ],
        [
         "43",
         "good student"
        ],
        [
         "44",
         "verage"
        ],
        [
         "45",
         "average"
        ],
        [
         "46",
         "excellent"
        ],
        [
         "47",
         "average"
        ],
        [
         "48",
         "average"
        ],
        [
         "49",
         "average"
        ]
       ],
       "shape": {
        "columns": 1,
        "rows": 125
       }
      },
      "text/plain": [
       "0        good student\n",
       "1          needs help\n",
       "2           excelelnt\n",
       "3             average\n",
       "4      late submitter\n",
       "            ...      \n",
       "120            verage\n",
       "121           average\n",
       "122    late submitter\n",
       "123         excellent\n",
       "124           average\n",
       "Name: Note, Length: 125, dtype: string"
      ]
     },
     "execution_count": 29,
     "metadata": {},
     "output_type": "execute_result"
    }
   ],
   "source": [
    "df['Note']"
   ]
  },
  {
   "cell_type": "code",
   "execution_count": 30,
   "id": "f8bf4d9b",
   "metadata": {},
   "outputs": [
    {
     "name": "stdout",
     "output_type": "stream",
     "text": [
      "<class 'pandas.core.frame.DataFrame'>\n",
      "RangeIndex: 125 entries, 0 to 124\n",
      "Data columns (total 6 columns):\n",
      " #   Column  Non-Null Count  Dtype  \n",
      "---  ------  --------------  -----  \n",
      " 0   Name    125 non-null    object \n",
      " 1   Age     105 non-null    float64\n",
      " 2   City    125 non-null    object \n",
      " 3   Grade   106 non-null    object \n",
      " 4   Gender  125 non-null    object \n",
      " 5   Note    125 non-null    string \n",
      "dtypes: float64(1), object(4), string(1)\n",
      "memory usage: 6.0+ KB\n"
     ]
    }
   ],
   "source": [
    "df.info()"
   ]
  },
  {
   "cell_type": "code",
   "execution_count": 31,
   "id": "627716d2",
   "metadata": {},
   "outputs": [
    {
     "data": {
      "application/vnd.microsoft.datawrangler.viewer.v0+json": {
       "columns": [
        {
         "name": "index",
         "rawType": "int64",
         "type": "integer"
        },
        {
         "name": "Grade",
         "rawType": "object",
         "type": "unknown"
        }
       ],
       "ref": "a57d6c2c-a441-410c-91c6-5dfa2788caa5",
       "rows": [
        [
         "0",
         "A"
        ],
        [
         "1",
         "A"
        ],
        [
         "2",
         "A"
        ],
        [
         "3",
         "B"
        ],
        [
         "4",
         "B"
        ],
        [
         "5",
         "A"
        ],
        [
         "6",
         "A"
        ],
        [
         "7",
         "B"
        ],
        [
         "8",
         "A"
        ],
        [
         "9",
         "B"
        ],
        [
         "10",
         "A"
        ],
        [
         "11",
         "A"
        ],
        [
         "12",
         null
        ],
        [
         "13",
         "A"
        ],
        [
         "14",
         "C"
        ],
        [
         "15",
         "A"
        ],
        [
         "16",
         "A"
        ],
        [
         "17",
         "B"
        ],
        [
         "18",
         null
        ],
        [
         "19",
         "B"
        ],
        [
         "20",
         "A"
        ],
        [
         "21",
         "B"
        ],
        [
         "22",
         "A"
        ],
        [
         "23",
         "A"
        ],
        [
         "24",
         null
        ],
        [
         "25",
         "C"
        ],
        [
         "26",
         null
        ],
        [
         "27",
         "A"
        ],
        [
         "28",
         "C"
        ],
        [
         "29",
         "A"
        ],
        [
         "30",
         "B"
        ],
        [
         "31",
         "B"
        ],
        [
         "32",
         "B"
        ],
        [
         "33",
         "A"
        ],
        [
         "34",
         "B"
        ],
        [
         "35",
         "C"
        ],
        [
         "36",
         "B"
        ],
        [
         "37",
         "B"
        ],
        [
         "38",
         "A"
        ],
        [
         "39",
         "A"
        ],
        [
         "40",
         "B"
        ],
        [
         "41",
         "B"
        ],
        [
         "42",
         null
        ],
        [
         "43",
         "B"
        ],
        [
         "44",
         "A"
        ],
        [
         "45",
         "A"
        ],
        [
         "46",
         "A"
        ],
        [
         "47",
         "A"
        ],
        [
         "48",
         "A"
        ],
        [
         "49",
         "A"
        ]
       ],
       "shape": {
        "columns": 1,
        "rows": 125
       }
      },
      "text/plain": [
       "0        A\n",
       "1        A\n",
       "2        A\n",
       "3        B\n",
       "4        B\n",
       "      ... \n",
       "120      A\n",
       "121      A\n",
       "122      B\n",
       "123    NaN\n",
       "124    NaN\n",
       "Name: Grade, Length: 125, dtype: object"
      ]
     },
     "execution_count": 31,
     "metadata": {},
     "output_type": "execute_result"
    }
   ],
   "source": [
    "df['Grade']"
   ]
  },
  {
   "cell_type": "code",
   "execution_count": 32,
   "id": "ac6cb0a4",
   "metadata": {},
   "outputs": [],
   "source": [
    "import matplotlib.pyplot as plt\n",
    "import seaborn as sns\n",
    "import numpy as np"
   ]
  },
  {
   "cell_type": "code",
   "execution_count": 33,
   "id": "ea5c47cf",
   "metadata": {},
   "outputs": [
    {
     "ename": "TypeError",
     "evalue": "expected string or bytes-like object",
     "output_type": "error",
     "traceback": [
      "\u001b[1;31m---------------------------------------------------------------------------\u001b[0m",
      "\u001b[1;31mTypeError\u001b[0m                                 Traceback (most recent call last)",
      "Cell \u001b[1;32mIn[33], line 13\u001b[0m\n\u001b[0;32m      5\u001b[0m text \u001b[38;5;241m=\u001b[39m df[\u001b[38;5;124m'\u001b[39m\u001b[38;5;124mNote\u001b[39m\u001b[38;5;124m'\u001b[39m]\n\u001b[0;32m      7\u001b[0m \u001b[38;5;66;03m# Generate word cloud\u001b[39;00m\n\u001b[0;32m      8\u001b[0m wc \u001b[38;5;241m=\u001b[39m \u001b[43mWordCloud\u001b[49m\u001b[43m(\u001b[49m\n\u001b[0;32m      9\u001b[0m \u001b[43m    \u001b[49m\u001b[43mwidth\u001b[49m\u001b[38;5;241;43m=\u001b[39;49m\u001b[38;5;241;43m800\u001b[39;49m\u001b[43m,\u001b[49m\n\u001b[0;32m     10\u001b[0m \u001b[43m    \u001b[49m\u001b[43mheight\u001b[49m\u001b[38;5;241;43m=\u001b[39;49m\u001b[38;5;241;43m400\u001b[39;49m\u001b[43m,\u001b[49m\n\u001b[0;32m     11\u001b[0m \u001b[43m    \u001b[49m\u001b[43mbackground_color\u001b[49m\u001b[38;5;241;43m=\u001b[39;49m\u001b[38;5;124;43m\"\u001b[39;49m\u001b[38;5;124;43mwhite\u001b[39;49m\u001b[38;5;124;43m\"\u001b[39;49m\u001b[43m,\u001b[49m\n\u001b[0;32m     12\u001b[0m \u001b[43m    \u001b[49m\u001b[43mcolormap\u001b[49m\u001b[38;5;241;43m=\u001b[39;49m\u001b[38;5;124;43m\"\u001b[39;49m\u001b[38;5;124;43mviridis\u001b[39;49m\u001b[38;5;124;43m\"\u001b[39;49m\u001b[43m  \u001b[49m\u001b[38;5;66;43;03m# you can use seaborn color palettes if you want\u001b[39;49;00m\n\u001b[1;32m---> 13\u001b[0m \u001b[43m)\u001b[49m\u001b[38;5;241;43m.\u001b[39;49m\u001b[43mgenerate\u001b[49m\u001b[43m(\u001b[49m\u001b[43mtext\u001b[49m\u001b[43m)\u001b[49m\n\u001b[0;32m     15\u001b[0m \u001b[38;5;66;03m# Show with matplotlib\u001b[39;00m\n\u001b[0;32m     16\u001b[0m plt\u001b[38;5;241m.\u001b[39mfigure(figsize\u001b[38;5;241m=\u001b[39m(\u001b[38;5;241m10\u001b[39m, \u001b[38;5;241m5\u001b[39m))\n",
      "File \u001b[1;32mc:\\Users\\bilal\\AppData\\Local\\Programs\\Python\\Python310\\lib\\site-packages\\wordcloud\\wordcloud.py:642\u001b[0m, in \u001b[0;36mWordCloud.generate\u001b[1;34m(self, text)\u001b[0m\n\u001b[0;32m    627\u001b[0m \u001b[38;5;28;01mdef\u001b[39;00m\u001b[38;5;250m \u001b[39m\u001b[38;5;21mgenerate\u001b[39m(\u001b[38;5;28mself\u001b[39m, text):\n\u001b[0;32m    628\u001b[0m \u001b[38;5;250m    \u001b[39m\u001b[38;5;124;03m\"\"\"Generate wordcloud from text.\u001b[39;00m\n\u001b[0;32m    629\u001b[0m \n\u001b[0;32m    630\u001b[0m \u001b[38;5;124;03m    The input \"text\" is expected to be a natural text. If you pass a sorted\u001b[39;00m\n\u001b[1;32m   (...)\u001b[0m\n\u001b[0;32m    640\u001b[0m \u001b[38;5;124;03m    self\u001b[39;00m\n\u001b[0;32m    641\u001b[0m \u001b[38;5;124;03m    \"\"\"\u001b[39;00m\n\u001b[1;32m--> 642\u001b[0m     \u001b[38;5;28;01mreturn\u001b[39;00m \u001b[38;5;28;43mself\u001b[39;49m\u001b[38;5;241;43m.\u001b[39;49m\u001b[43mgenerate_from_text\u001b[49m\u001b[43m(\u001b[49m\u001b[43mtext\u001b[49m\u001b[43m)\u001b[49m\n",
      "File \u001b[1;32mc:\\Users\\bilal\\AppData\\Local\\Programs\\Python\\Python310\\lib\\site-packages\\wordcloud\\wordcloud.py:623\u001b[0m, in \u001b[0;36mWordCloud.generate_from_text\u001b[1;34m(self, text)\u001b[0m\n\u001b[0;32m    606\u001b[0m \u001b[38;5;28;01mdef\u001b[39;00m\u001b[38;5;250m \u001b[39m\u001b[38;5;21mgenerate_from_text\u001b[39m(\u001b[38;5;28mself\u001b[39m, text):\n\u001b[0;32m    607\u001b[0m \u001b[38;5;250m    \u001b[39m\u001b[38;5;124;03m\"\"\"Generate wordcloud from text.\u001b[39;00m\n\u001b[0;32m    608\u001b[0m \n\u001b[0;32m    609\u001b[0m \u001b[38;5;124;03m    The input \"text\" is expected to be a natural text. If you pass a sorted\u001b[39;00m\n\u001b[1;32m   (...)\u001b[0m\n\u001b[0;32m    621\u001b[0m \u001b[38;5;124;03m    self\u001b[39;00m\n\u001b[0;32m    622\u001b[0m \u001b[38;5;124;03m    \"\"\"\u001b[39;00m\n\u001b[1;32m--> 623\u001b[0m     words \u001b[38;5;241m=\u001b[39m \u001b[38;5;28;43mself\u001b[39;49m\u001b[38;5;241;43m.\u001b[39;49m\u001b[43mprocess_text\u001b[49m\u001b[43m(\u001b[49m\u001b[43mtext\u001b[49m\u001b[43m)\u001b[49m\n\u001b[0;32m    624\u001b[0m     \u001b[38;5;28mself\u001b[39m\u001b[38;5;241m.\u001b[39mgenerate_from_frequencies(words)\n\u001b[0;32m    625\u001b[0m     \u001b[38;5;28;01mreturn\u001b[39;00m \u001b[38;5;28mself\u001b[39m\n",
      "File \u001b[1;32mc:\\Users\\bilal\\AppData\\Local\\Programs\\Python\\Python310\\lib\\site-packages\\wordcloud\\wordcloud.py:585\u001b[0m, in \u001b[0;36mWordCloud.process_text\u001b[1;34m(self, text)\u001b[0m\n\u001b[0;32m    582\u001b[0m pattern \u001b[38;5;241m=\u001b[39m \u001b[38;5;124mr\u001b[39m\u001b[38;5;124m\"\u001b[39m\u001b[38;5;124m\\\u001b[39m\u001b[38;5;124mw[\u001b[39m\u001b[38;5;124m\\\u001b[39m\u001b[38;5;124mw\u001b[39m\u001b[38;5;124m'\u001b[39m\u001b[38;5;124m]*\u001b[39m\u001b[38;5;124m\"\u001b[39m \u001b[38;5;28;01mif\u001b[39;00m \u001b[38;5;28mself\u001b[39m\u001b[38;5;241m.\u001b[39mmin_word_length \u001b[38;5;241m<\u001b[39m\u001b[38;5;241m=\u001b[39m \u001b[38;5;241m1\u001b[39m \u001b[38;5;28;01melse\u001b[39;00m \u001b[38;5;124mr\u001b[39m\u001b[38;5;124m\"\u001b[39m\u001b[38;5;124m\\\u001b[39m\u001b[38;5;124mw[\u001b[39m\u001b[38;5;124m\\\u001b[39m\u001b[38;5;124mw\u001b[39m\u001b[38;5;124m'\u001b[39m\u001b[38;5;124m]+\u001b[39m\u001b[38;5;124m\"\u001b[39m\n\u001b[0;32m    583\u001b[0m regexp \u001b[38;5;241m=\u001b[39m \u001b[38;5;28mself\u001b[39m\u001b[38;5;241m.\u001b[39mregexp \u001b[38;5;28;01mif\u001b[39;00m \u001b[38;5;28mself\u001b[39m\u001b[38;5;241m.\u001b[39mregexp \u001b[38;5;129;01mis\u001b[39;00m \u001b[38;5;129;01mnot\u001b[39;00m \u001b[38;5;28;01mNone\u001b[39;00m \u001b[38;5;28;01melse\u001b[39;00m pattern\n\u001b[1;32m--> 585\u001b[0m words \u001b[38;5;241m=\u001b[39m \u001b[43mre\u001b[49m\u001b[38;5;241;43m.\u001b[39;49m\u001b[43mfindall\u001b[49m\u001b[43m(\u001b[49m\u001b[43mregexp\u001b[49m\u001b[43m,\u001b[49m\u001b[43m \u001b[49m\u001b[43mtext\u001b[49m\u001b[43m,\u001b[49m\u001b[43m \u001b[49m\u001b[43mflags\u001b[49m\u001b[43m)\u001b[49m\n\u001b[0;32m    586\u001b[0m \u001b[38;5;66;03m# remove 's\u001b[39;00m\n\u001b[0;32m    587\u001b[0m words \u001b[38;5;241m=\u001b[39m [word[:\u001b[38;5;241m-\u001b[39m\u001b[38;5;241m2\u001b[39m] \u001b[38;5;28;01mif\u001b[39;00m word\u001b[38;5;241m.\u001b[39mlower()\u001b[38;5;241m.\u001b[39mendswith(\u001b[38;5;124m\"\u001b[39m\u001b[38;5;124m'\u001b[39m\u001b[38;5;124ms\u001b[39m\u001b[38;5;124m\"\u001b[39m) \u001b[38;5;28;01melse\u001b[39;00m word\n\u001b[0;32m    588\u001b[0m          \u001b[38;5;28;01mfor\u001b[39;00m word \u001b[38;5;129;01min\u001b[39;00m words]\n",
      "File \u001b[1;32mc:\\Users\\bilal\\AppData\\Local\\Programs\\Python\\Python310\\lib\\re.py:240\u001b[0m, in \u001b[0;36mfindall\u001b[1;34m(pattern, string, flags)\u001b[0m\n\u001b[0;32m    232\u001b[0m \u001b[38;5;28;01mdef\u001b[39;00m\u001b[38;5;250m \u001b[39m\u001b[38;5;21mfindall\u001b[39m(pattern, string, flags\u001b[38;5;241m=\u001b[39m\u001b[38;5;241m0\u001b[39m):\n\u001b[0;32m    233\u001b[0m \u001b[38;5;250m    \u001b[39m\u001b[38;5;124;03m\"\"\"Return a list of all non-overlapping matches in the string.\u001b[39;00m\n\u001b[0;32m    234\u001b[0m \n\u001b[0;32m    235\u001b[0m \u001b[38;5;124;03m    If one or more capturing groups are present in the pattern, return\u001b[39;00m\n\u001b[1;32m   (...)\u001b[0m\n\u001b[0;32m    238\u001b[0m \n\u001b[0;32m    239\u001b[0m \u001b[38;5;124;03m    Empty matches are included in the result.\"\"\"\u001b[39;00m\n\u001b[1;32m--> 240\u001b[0m     \u001b[38;5;28;01mreturn\u001b[39;00m \u001b[43m_compile\u001b[49m\u001b[43m(\u001b[49m\u001b[43mpattern\u001b[49m\u001b[43m,\u001b[49m\u001b[43m \u001b[49m\u001b[43mflags\u001b[49m\u001b[43m)\u001b[49m\u001b[38;5;241;43m.\u001b[39;49m\u001b[43mfindall\u001b[49m\u001b[43m(\u001b[49m\u001b[43mstring\u001b[49m\u001b[43m)\u001b[49m\n",
      "\u001b[1;31mTypeError\u001b[0m: expected string or bytes-like object"
     ]
    }
   ],
   "source": [
    "from wordcloud import WordCloud\n",
    "import matplotlib.pyplot as plt\n",
    "\n",
    "# Example text\n",
    "text = df['Note']\n",
    "\n",
    "# Generate word cloud\n",
    "wc = WordCloud(\n",
    "    width=800,\n",
    "    height=400,\n",
    "    background_color=\"white\",\n",
    "    colormap=\"viridis\"  # you can use seaborn color palettes if you want\n",
    ").generate(text)\n",
    "\n",
    "# Show with matplotlib\n",
    "plt.figure(figsize=(10, 5))\n",
    "plt.imshow(wc, interpolation=\"bilinear\")\n",
    "plt.axis(\"off\")\n",
    "plt.show()\n"
   ]
  }
 ],
 "metadata": {
  "kernelspec": {
   "display_name": "Python 3",
   "language": "python",
   "name": "python3"
  },
  "language_info": {
   "codemirror_mode": {
    "name": "ipython",
    "version": 3
   },
   "file_extension": ".py",
   "mimetype": "text/x-python",
   "name": "python",
   "nbconvert_exporter": "python",
   "pygments_lexer": "ipython3",
   "version": "3.10.0"
  }
 },
 "nbformat": 4,
 "nbformat_minor": 5
}
